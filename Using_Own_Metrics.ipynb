{
  "nbformat": 4,
  "nbformat_minor": 0,
  "metadata": {
    "colab": {
      "provenance": []
    },
    "kernelspec": {
      "name": "python3",
      "display_name": "Python 3"
    },
    "language_info": {
      "name": "python"
    }
  },
  "cells": [
    {
      "cell_type": "code",
      "source": [
        "from tensorflow import keras\n",
        "from tensorflow.keras import layers, Model"
      ],
      "metadata": {
        "id": "zuUgPqOuELjW"
      },
      "execution_count": null,
      "outputs": []
    },
    {
      "cell_type": "code",
      "execution_count": null,
      "metadata": {
        "id": "dvt1BdSaEEMb"
      },
      "outputs": [],
      "source": [
        "from tensorflow.keras.datasets import mnist\n",
        "def get_mnist_model():\n",
        " inputs = keras.Input(shape=(28 * 28,))\n",
        " features = layers.Dense(512, activation=\"relu\")(inputs)\n",
        " features = layers.Dropout(0.5)(features)\n",
        " outputs = layers.Dense(10, activation=\"softmax\")(features)\n",
        " model = keras.Model(inputs, outputs)\n",
        " return model"
      ]
    },
    {
      "cell_type": "code",
      "source": [
        "(images, labels), (test_images, test_labels) = mnist.load_data()\n",
        "images = images.reshape((60000, 28 * 28)).astype(\"float32\") / 255\n",
        "test_images = test_images.reshape((10000, 28 * 28)).astype(\"float32\") / 255\n",
        "train_images, val_images = images[10000:], images[:10000]\n",
        "train_labels, val_labels = labels[10000:], labels[:10000]"
      ],
      "metadata": {
        "id": "t1K1kLvVEU2o"
      },
      "execution_count": null,
      "outputs": []
    },
    {
      "cell_type": "code",
      "source": [
        "model = get_mnist_model()"
      ],
      "metadata": {
        "id": "M-6n6QlHEekW"
      },
      "execution_count": null,
      "outputs": []
    },
    {
      "cell_type": "code",
      "source": [
        "model.compile(optimizer=\"rmsprop\", loss=\"sparse_categorical_crossentropy\", metrics=[\"accuracy\"])\n",
        "model.fit(train_images, train_labels,\n",
        " epochs=3,\n",
        " validation_data=(val_images, val_labels))\n",
        "test_metrics = model.evaluate(test_images, test_labels)\n",
        "predictions = model.predict(test_images)"
      ],
      "metadata": {
        "colab": {
          "base_uri": "https://localhost:8080/"
        },
        "id": "xvFBzwNuEdv5",
        "outputId": "f63cecc0-3019-47e8-d703-c32eddf6972c"
      },
      "execution_count": null,
      "outputs": [
        {
          "output_type": "stream",
          "name": "stdout",
          "text": [
            "Epoch 1/3\n",
            "1563/1563 [==============================] - 13s 8ms/step - loss: 0.2988 - accuracy: 0.9125 - val_loss: 0.1731 - val_accuracy: 0.9516\n",
            "Epoch 2/3\n",
            "1563/1563 [==============================] - 12s 8ms/step - loss: 0.1631 - accuracy: 0.9533 - val_loss: 0.1289 - val_accuracy: 0.9656\n",
            "Epoch 3/3\n",
            "1563/1563 [==============================] - 13s 8ms/step - loss: 0.1279 - accuracy: 0.9635 - val_loss: 0.1054 - val_accuracy: 0.9719\n",
            "313/313 [==============================] - 1s 3ms/step - loss: 0.0953 - accuracy: 0.9730\n",
            "313/313 [==============================] - 1s 2ms/step\n"
          ]
        }
      ]
    },
    {
      "cell_type": "markdown",
      "source": [
        "A Keras metric is a subclass of the keras.metrics.Metric class. Like layers, a metric has an internal state stored in TensorFlow variables. Unlike layers, these variables\n",
        "aren’t updated via backpropagation, so you have to write the state-update logic yourself, which happens in the update_state() method."
      ],
      "metadata": {
        "id": "iXPch_kNGE26"
      }
    },
    {
      "cell_type": "markdown",
      "source": [
        " For example, here’s a simple custom metric that measures the root mean squared\n",
        "error (RMSE)."
      ],
      "metadata": {
        "id": "BDJ43-q3GM-5"
      }
    },
    {
      "cell_type": "markdown",
      "source": [
        "Meanwhile, you also need to expose a way to reset the metric state without having to\n",
        "reinstantiate it—this enables the same metric objects to be used across different\n",
        "epochs of training or across both training and evaluation. You do this with the\n",
        "reset_state() method"
      ],
      "metadata": {
        "id": "EYLxBLmNHcEg"
      }
    },
    {
      "cell_type": "code",
      "source": [
        "import tensorflow as tf\n",
        "class RootMeanSquaredError(keras.metrics.Metric):\n",
        "  # Define the state variables in the constructor. Like for layers, you have access to the add_weight() method\n",
        "  def __init__(self, name=\"rmse\", **kwargs):\n",
        "    super().__init__(name=name, **kwargs)\n",
        "    self.mse_sum = self.add_weight(name=\"mse_sum\", initializer=\"zeros\")\n",
        "    self.total_samples = self.add_weight(name=\"total_samples\", initializer=\"zeros\", dtype=\"int32\")\n",
        "\n",
        "  def update_state(self, y_true, y_pred, sample_weight=None):\n",
        "  # Implement the state update logic in update_state(). The y_true argument is the targets (or labels) for one batch, while y_pred represents the corresponding predictions from the model\n",
        "    y_true = tf.one_hot(y_true, depth=tf.shape(y_pred)[1]) # To match our MNIST model, we expect categorical predictions and integer labels.\n",
        "    mse = tf.reduce_sum(tf.square(y_true - y_pred))\n",
        "    self.mse_sum.assign_add(mse)\n",
        "    num_samples = tf.shape(y_pred)[0]\n",
        "    self.total_samples.assign_add(num_samples)\n",
        "\n",
        "  # You use the result() method to return the current value of the metric\n",
        "  def result(self):\n",
        "    return tf.sqrt(self.mse_sum / tf.cast(self.total_samples, tf.float32))\n",
        "\n",
        "  def reset_state(self):\n",
        "    self.mse_sum.assign(0.)\n",
        "    self.total_samples.assign(0)\n"
      ],
      "metadata": {
        "id": "vvbd4ONHGKLb"
      },
      "execution_count": null,
      "outputs": []
    },
    {
      "cell_type": "markdown",
      "source": [
        "Custom metrics can be used just like built-in ones"
      ],
      "metadata": {
        "id": "Rd00clYaHnHG"
      }
    },
    {
      "cell_type": "code",
      "source": [
        "model = get_mnist_model()\n",
        "model.compile(optimizer=\"rmsprop\", loss=\"sparse_categorical_crossentropy\", metrics=[\"accuracy\", RootMeanSquaredError()])\n",
        "\n",
        "model.fit(train_images, train_labels, epochs=3, validation_data=(val_images, val_labels))\n",
        "\n",
        "test_metrics = model.evaluate(test_images, test_labels)"
      ],
      "metadata": {
        "colab": {
          "base_uri": "https://localhost:8080/"
        },
        "id": "ReDqY9-9HjJw",
        "outputId": "f665ea6f-b504-4cdb-b8ba-86ee13d76de2"
      },
      "execution_count": null,
      "outputs": [
        {
          "output_type": "stream",
          "name": "stdout",
          "text": [
            "Epoch 1/3\n",
            "1563/1563 [==============================] - 13s 8ms/step - loss: 0.2939 - accuracy: 0.9128 - rmse: 7.1802 - val_loss: 0.1460 - val_accuracy: 0.9571 - val_rmse: 7.3540\n",
            "Epoch 2/3\n",
            "1563/1563 [==============================] - 12s 8ms/step - loss: 0.1573 - accuracy: 0.9542 - rmse: 7.3540 - val_loss: 0.1116 - val_accuracy: 0.9674 - val_rmse: 7.3998\n",
            "Epoch 3/3\n",
            "1563/1563 [==============================] - 12s 8ms/step - loss: 0.1269 - accuracy: 0.9645 - rmse: 7.3849 - val_loss: 0.1039 - val_accuracy: 0.9729 - val_rmse: 7.4249\n",
            "313/313 [==============================] - 1s 3ms/step - loss: 0.0899 - accuracy: 0.9756 - rmse: 7.4389\n"
          ]
        }
      ]
    }
  ]
}