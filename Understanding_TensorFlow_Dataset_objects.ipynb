{
  "nbformat": 4,
  "nbformat_minor": 0,
  "metadata": {
    "colab": {
      "provenance": []
    },
    "kernelspec": {
      "name": "python3",
      "display_name": "Python 3"
    },
    "language_info": {
      "name": "python"
    }
  },
  "cells": [
    {
      "cell_type": "markdown",
      "source": [
        "TensorFlow makes available the tf.data API to create efficient input pipelines for\n",
        "machine learning models. Its core class is tf.data.Dataset.\n",
        "\n",
        "\n",
        "A Dataset object is an iterator: you can use it in a for loop. It will typically return\n",
        "batches of input data and labels. You can pass a Dataset object directly to the fit()\n",
        "method of a Keras model.\n",
        "\n",
        "\n",
        "The Dataset class handles many key features that would otherwise be cumbersome\n",
        "to implement yourself—in particular, asynchronous data prefetching (preprocessing\n",
        "the next batch of data while the previous one is being handled by the model, which\n",
        "keeps execution flowing without interruptions).\n",
        "\n",
        "\n",
        "The Dataset class also exposes a functional-style API for modifying datasets"
      ],
      "metadata": {
        "id": "Kh4T-pFXoIaO"
      }
    },
    {
      "cell_type": "code",
      "execution_count": 1,
      "metadata": {
        "id": "JP61IbxZoDiy"
      },
      "outputs": [],
      "source": [
        "import numpy as np\n",
        "import tensorflow as tf\n",
        "random_numbers = np.random.normal(size=(1000, 16))"
      ]
    },
    {
      "cell_type": "code",
      "source": [
        "random_numbers.shape"
      ],
      "metadata": {
        "colab": {
          "base_uri": "https://localhost:8080/"
        },
        "id": "3T6pzI2hoStO",
        "outputId": "5a8b78db-1084-4b68-f803-19996eb92b8d"
      },
      "execution_count": 3,
      "outputs": [
        {
          "output_type": "execute_result",
          "data": {
            "text/plain": [
              "(1000, 16)"
            ]
          },
          "metadata": {},
          "execution_count": 3
        }
      ]
    },
    {
      "cell_type": "markdown",
      "source": [
        "The from_tensor_slices() class method can be\n",
        "used to create a Dataset from a NumPy array,\n",
        "or a tuple or dict of NumPy arrays."
      ],
      "metadata": {
        "id": "t1Tuix5yolH4"
      }
    },
    {
      "cell_type": "code",
      "source": [
        "dataset = tf.data.Dataset.from_tensor_slices(random_numbers)"
      ],
      "metadata": {
        "id": "a_ahId73oWBH"
      },
      "execution_count": 4,
      "outputs": []
    },
    {
      "cell_type": "code",
      "source": [
        "dataset"
      ],
      "metadata": {
        "colab": {
          "base_uri": "https://localhost:8080/"
        },
        "id": "Ys8huGDpomXL",
        "outputId": "8c095fb1-3034-4b4f-9b2f-d0240eef2986"
      },
      "execution_count": 5,
      "outputs": [
        {
          "output_type": "execute_result",
          "data": {
            "text/plain": [
              "<_TensorSliceDataset element_spec=TensorSpec(shape=(16,), dtype=tf.float64, name=None)>"
            ]
          },
          "metadata": {},
          "execution_count": 5
        }
      ]
    },
    {
      "cell_type": "markdown",
      "source": [
        "At first, our dataset just yields single samples:"
      ],
      "metadata": {
        "id": "m9l0a0l1o5Hj"
      }
    },
    {
      "cell_type": "code",
      "source": [
        "for i, element in enumerate(dataset):\n",
        "  print(element.shape)\n",
        "  if i >= 2:\n",
        "    break"
      ],
      "metadata": {
        "colab": {
          "base_uri": "https://localhost:8080/"
        },
        "id": "QLtKKm_kovhx",
        "outputId": "ebb35f16-4771-44a6-8b27-39e9a9ede99d"
      },
      "execution_count": 6,
      "outputs": [
        {
          "output_type": "stream",
          "name": "stdout",
          "text": [
            "(16,)\n",
            "(16,)\n",
            "(16,)\n"
          ]
        }
      ]
    },
    {
      "cell_type": "markdown",
      "source": [
        "We can use the .batch() method to batch the data:"
      ],
      "metadata": {
        "id": "PNGsvnRdo8Vx"
      }
    },
    {
      "cell_type": "code",
      "source": [
        "batched_dataset = dataset.batch(32)\n",
        "for i, element in enumerate(batched_dataset):\n",
        "  print(element.shape)\n",
        "  if i >= 2:\n",
        "    break"
      ],
      "metadata": {
        "colab": {
          "base_uri": "https://localhost:8080/"
        },
        "id": "UeuEPNT3o86E",
        "outputId": "27f50c88-62be-4a7c-e62e-6b1bd1330ea9"
      },
      "execution_count": 8,
      "outputs": [
        {
          "output_type": "stream",
          "name": "stdout",
          "text": [
            "(32, 16)\n",
            "(32, 16)\n",
            "(32, 16)\n"
          ]
        }
      ]
    },
    {
      "cell_type": "markdown",
      "source": [
        "More broadly, we have access to a range of useful dataset methods, such as\n",
        "\n",
        " .shuffle(buffer_size)—Shuffles elements within a buffer\n",
        "\n",
        " .prefetch(buffer_size)—Prefetches a buffer of elements in GPU memory\n",
        "to achieve better device utilization.\n",
        "\n",
        " .map(callable)—Applies an arbitrary transformation to each element of the\n",
        "dataset (the function callable, which expects to take as input a single element yielded by the dataset)."
      ],
      "metadata": {
        "id": "lnMnAfk7qRNt"
      }
    },
    {
      "cell_type": "markdown",
      "source": [
        "The .map() method, in particular, is one that you will use often. Here’s an example."
      ],
      "metadata": {
        "id": "-WjD8pVGqUla"
      }
    },
    {
      "cell_type": "code",
      "source": [
        "reshaped_dataset = dataset.map(lambda x: tf.reshape(x, (4, 4)))\n",
        "for i, element in enumerate(reshaped_dataset):\n",
        "  print(element.shape)\n",
        "  if i>=2:\n",
        "    break"
      ],
      "metadata": {
        "colab": {
          "base_uri": "https://localhost:8080/"
        },
        "id": "nn9ieqPPqYtQ",
        "outputId": "fcbc16ec-6c2c-4a1f-8794-7ffe3608d8b8"
      },
      "execution_count": 9,
      "outputs": [
        {
          "output_type": "stream",
          "name": "stdout",
          "text": [
            "(4, 4)\n",
            "(4, 4)\n",
            "(4, 4)\n"
          ]
        }
      ]
    }
  ]
}