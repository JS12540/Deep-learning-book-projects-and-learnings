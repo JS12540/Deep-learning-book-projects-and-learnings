{
  "nbformat": 4,
  "nbformat_minor": 0,
  "metadata": {
    "colab": {
      "provenance": []
    },
    "kernelspec": {
      "name": "python3",
      "display_name": "Python 3"
    },
    "language_info": {
      "name": "python"
    }
  },
  "cells": [
    {
      "cell_type": "markdown",
      "source": [
        "Importantly, a convnet takes as input tensors of shape (image_height, image_width,\n",
        "image_channels), not including the batch dimension. In this case, we’ll configure the\n",
        "convnet to process inputs of size (28, 28, 1), which is the format of MNIST images."
      ],
      "metadata": {
        "id": "bYSj6r9dVmkI"
      }
    },
    {
      "cell_type": "markdown",
      "source": [
        "the first convolution layer takes a feature map of size (28,\n",
        "28, 1) and outputs a feature map of size (26, 26, 32): it computes 32 filters over its\n",
        "input. Each of these 32 output channels contains a 26 × 26 grid of values, which is a\n",
        "response map of the filter over the input, indicating the response of that filter pattern at\n",
        "different locations in the input"
      ],
      "metadata": {
        "id": "n8GryV8RgI1G"
      }
    },
    {
      "cell_type": "code",
      "execution_count": null,
      "metadata": {
        "id": "E6a4W7kBAv0s"
      },
      "outputs": [],
      "source": [
        "from tensorflow import keras\n",
        "from tensorflow.keras import layers\n",
        "inputs = keras.Input(shape=(28, 28, 1))\n",
        "x = layers.Conv2D(filters=32, kernel_size=3, activation=\"relu\")(inputs)\n",
        "x = layers.MaxPooling2D(pool_size=2)(x)\n",
        "x = layers.Conv2D(filters=64, kernel_size=3, activation=\"relu\")(x)\n",
        "x = layers.MaxPooling2D(pool_size=2)(x)\n",
        "x = layers.Conv2D(filters=128, kernel_size=3, activation=\"relu\")(x)\n",
        "x = layers.Flatten()(x)\n",
        "outputs = layers.Dense(10, activation=\"softmax\")(x)\n",
        "model = keras.Model(inputs=inputs, outputs=outputs)"
      ]
    },
    {
      "cell_type": "code",
      "source": [
        "model.summary()"
      ],
      "metadata": {
        "colab": {
          "base_uri": "https://localhost:8080/"
        },
        "id": "5e5fwZpEVqcy",
        "outputId": "86f73cc0-0889-4d90-91b0-b720d0be6803"
      },
      "execution_count": null,
      "outputs": [
        {
          "output_type": "stream",
          "name": "stdout",
          "text": [
            "Model: \"model\"\n",
            "_________________________________________________________________\n",
            " Layer (type)                Output Shape              Param #   \n",
            "=================================================================\n",
            " input_1 (InputLayer)        [(None, 28, 28, 1)]       0         \n",
            "                                                                 \n",
            " conv2d (Conv2D)             (None, 26, 26, 32)        320       \n",
            "                                                                 \n",
            " max_pooling2d (MaxPooling2  (None, 13, 13, 32)        0         \n",
            " D)                                                              \n",
            "                                                                 \n",
            " conv2d_1 (Conv2D)           (None, 11, 11, 64)        18496     \n",
            "                                                                 \n",
            " max_pooling2d_1 (MaxPoolin  (None, 5, 5, 64)          0         \n",
            " g2D)                                                            \n",
            "                                                                 \n",
            " conv2d_2 (Conv2D)           (None, 3, 3, 128)         73856     \n",
            "                                                                 \n",
            " flatten (Flatten)           (None, 1152)              0         \n",
            "                                                                 \n",
            " dense (Dense)               (None, 10)                11530     \n",
            "                                                                 \n",
            "=================================================================\n",
            "Total params: 104202 (407.04 KB)\n",
            "Trainable params: 104202 (407.04 KB)\n",
            "Non-trainable params: 0 (0.00 Byte)\n",
            "_________________________________________________________________\n"
          ]
        }
      ]
    },
    {
      "cell_type": "markdown",
      "source": [
        "You can see that the output of every Conv2D and MaxPooling2D layer is a rank-3 tensor\n",
        "of shape (height, width, channels). The width and height dimensions tend to\n",
        "shrink as you go deeper in the model. The number of channels is controlled by the\n",
        "first argument passed to the Conv2D layers (32, 64, or 128)."
      ],
      "metadata": {
        "id": "hxI3kipVWnCK"
      }
    },
    {
      "cell_type": "markdown",
      "source": [
        "After the last Conv2D layer, we end up with an output of shape (3, 3, 128)—a 3 × 3\n",
        "feature map of 128 channels. The next step is to feed this output into a densely connected classifier like those you’re already familiar with: a stack of Dense layers.\n",
        "\n",
        "These\n",
        "classifiers process vectors, which are 1D, whereas the current output is a rank-3 tensor.\n",
        "To bridge the gap, we flatten the 3D outputs to 1D with a **Flatten layer** before adding\n",
        "the Dense layers."
      ],
      "metadata": {
        "id": "HVajlL7YXWUN"
      }
    },
    {
      "cell_type": "code",
      "source": [
        "from tensorflow.keras.datasets import mnist\n",
        "(train_images, train_labels), (test_images, test_labels) = mnist.load_data()\n",
        "train_images = train_images.reshape((60000, 28, 28, 1))\n",
        "train_images = train_images.astype(\"float32\") / 255\n",
        "test_images = test_images.reshape((10000, 28, 28, 1))\n",
        "test_images = test_images.astype(\"float32\") / 255\n",
        "model.compile(optimizer=\"rmsprop\",\n",
        " loss=\"sparse_categorical_crossentropy\",\n",
        " metrics=[\"accuracy\"])\n",
        "model.fit(train_images, train_labels, epochs=5, batch_size=64)"
      ],
      "metadata": {
        "colab": {
          "base_uri": "https://localhost:8080/"
        },
        "id": "BKelIROfXVvP",
        "outputId": "68fa699e-d895-4407-aa5c-97c10c7475da"
      },
      "execution_count": null,
      "outputs": [
        {
          "output_type": "stream",
          "name": "stdout",
          "text": [
            "Downloading data from https://storage.googleapis.com/tensorflow/tf-keras-datasets/mnist.npz\n",
            "11490434/11490434 [==============================] - 0s 0us/step\n",
            "Epoch 1/5\n",
            "938/938 [==============================] - 52s 54ms/step - loss: 0.1651 - accuracy: 0.9488\n",
            "Epoch 2/5\n",
            "938/938 [==============================] - 52s 56ms/step - loss: 0.0457 - accuracy: 0.9858\n",
            "Epoch 3/5\n",
            "938/938 [==============================] - 54s 58ms/step - loss: 0.0311 - accuracy: 0.9901\n",
            "Epoch 4/5\n",
            "938/938 [==============================] - 50s 54ms/step - loss: 0.0241 - accuracy: 0.9928\n",
            "Epoch 5/5\n",
            "938/938 [==============================] - 53s 57ms/step - loss: 0.0182 - accuracy: 0.9946\n"
          ]
        },
        {
          "output_type": "execute_result",
          "data": {
            "text/plain": [
              "<keras.src.callbacks.History at 0x7c98d173a980>"
            ]
          },
          "metadata": {},
          "execution_count": 3
        }
      ]
    },
    {
      "cell_type": "code",
      "source": [
        " test_loss, test_acc = model.evaluate(test_images, test_labels)"
      ],
      "metadata": {
        "colab": {
          "base_uri": "https://localhost:8080/"
        },
        "id": "N7o_Qk6nWnpV",
        "outputId": "a5523422-e9cc-4d69-9f2f-7c3e7fb5258d"
      },
      "execution_count": null,
      "outputs": [
        {
          "output_type": "stream",
          "name": "stdout",
          "text": [
            "313/313 [==============================] - 3s 10ms/step - loss: 0.0274 - accuracy: 0.9920\n"
          ]
        }
      ]
    },
    {
      "cell_type": "code",
      "source": [
        "print(f\"Test accuracy: {test_acc:.3f}\")"
      ],
      "metadata": {
        "colab": {
          "base_uri": "https://localhost:8080/"
        },
        "id": "RGNkjdKwXv9v",
        "outputId": "173323c2-c80e-492e-ca39-59bed4cf8a67"
      },
      "execution_count": null,
      "outputs": [
        {
          "output_type": "stream",
          "name": "stdout",
          "text": [
            "Test accuracy: 0.992\n"
          ]
        }
      ]
    },
    {
      "cell_type": "markdown",
      "source": [
        "[How convolution works](https://chat.openai.com/share/9215d7d9-82b1-4531-9ca8-7be3e47583a5)"
      ],
      "metadata": {
        "id": "96k0t_12is14"
      }
    },
    {
      "cell_type": "markdown",
      "source": [
        "[Border effects and strides ](https://chat.openai.com/share/d7c92fb0-decc-43a0-8dd2-211014520a29)"
      ],
      "metadata": {
        "id": "tZa21oN0o7kk"
      }
    },
    {
      "cell_type": "markdown",
      "source": [
        "[Max Pooling and Why we use it ](https://chat.openai.com/share/94447032-112e-4aaa-bf15-989c5cc399a8)"
      ],
      "metadata": {
        "id": "7mlg3Tvwu_zS"
      }
    }
  ]
}