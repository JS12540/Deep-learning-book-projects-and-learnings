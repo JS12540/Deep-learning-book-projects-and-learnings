{
  "nbformat": 4,
  "nbformat_minor": 0,
  "metadata": {
    "colab": {
      "provenance": []
    },
    "kernelspec": {
      "name": "python3",
      "display_name": "Python 3"
    },
    "language_info": {
      "name": "python"
    }
  },
  "cells": [
    {
      "cell_type": "markdown",
      "source": [
        "we will reimplement the customer support ticket\n",
        "management model using a Model subclass."
      ],
      "metadata": {
        "id": "wBshmRCVE5Fi"
      }
    },
    {
      "cell_type": "code",
      "source": [
        "from tensorflow import keras\n",
        "from tensorflow.keras import layers, Model"
      ],
      "metadata": {
        "id": "eveQLj10FBOk"
      },
      "execution_count": null,
      "outputs": []
    },
    {
      "cell_type": "code",
      "source": [
        "vocabulary_size = 10000\n",
        "num_tags = 100\n",
        "num_departments = 4"
      ],
      "metadata": {
        "id": "OsApLooVF4yv"
      },
      "execution_count": null,
      "outputs": []
    },
    {
      "cell_type": "code",
      "source": [
        "import numpy as np\n",
        "num_samples = 1280\n",
        " # Dummy input data\n",
        "title_data = np.random.randint(0, 2, size=(num_samples, vocabulary_size))\n",
        "text_body_data = np.random.randint(0, 2, size=(num_samples, vocabulary_size))\n",
        "tags_data = np.random.randint(0, 2, size=(num_samples, num_tags))\n",
        " # Dummy output data\n",
        "priority_data = np.random.random(size=(num_samples, 1))\n",
        "department_data = np.random.randint(0, 2, size=(num_samples, num_departments))"
      ],
      "metadata": {
        "id": "KvNiXieiF1WX"
      },
      "execution_count": null,
      "outputs": []
    },
    {
      "cell_type": "code",
      "execution_count": null,
      "metadata": {
        "id": "xYqSJw8aE0GE"
      },
      "outputs": [],
      "source": [
        "class CustomerTicketModel(keras.Model):\n",
        " def __init__(self, num_departments):\n",
        "  super().__init__() # Don’t forget to call the super() constructor!\n",
        "  self.concat_layer = layers.Concatenate()\n",
        "  self.mixing_layer = layers.Dense(64, activation=\"relu\")\n",
        "  self.priority_scorer = layers.Dense(1, activation=\"sigmoid\")\n",
        "  self.department_classifier = layers.Dense(num_departments, activation=\"softmax\")\n",
        " def call(self, inputs):\n",
        "  title = inputs[\"title\"]\n",
        "  text_body = inputs[\"text_body\"]\n",
        "  tags = inputs[\"tags\"]\n",
        "  features = self.concat_layer([title, text_body, tags])\n",
        "  features = self.mixing_layer(features)\n",
        "  priority = self.priority_scorer(features)\n",
        "  department = self.department_classifier(features)\n",
        "  return priority, department"
      ]
    },
    {
      "cell_type": "markdown",
      "source": [
        "Once you’ve defined the model, you can instantiate it. Note that it will only create its\n",
        "weights the first time you call it on some data, much like Layer subclasses"
      ],
      "metadata": {
        "id": "dMwSVf6BFsH7"
      }
    },
    {
      "cell_type": "code",
      "source": [
        "model = CustomerTicketModel(num_departments=4)\n",
        "priority, department = model({\"title\": title_data, \"text_body\": text_body_data, \"tags\": tags_data})"
      ],
      "metadata": {
        "id": "mue0dKMoFsom"
      },
      "execution_count": null,
      "outputs": []
    },
    {
      "cell_type": "markdown",
      "source": [
        "You can compile and train a Model subclass just like a Sequential or Functional\n",
        "model"
      ],
      "metadata": {
        "id": "82EvrBR0GgWD"
      }
    },
    {
      "cell_type": "markdown",
      "source": [
        "The structure of what you pass as the loss and\n",
        "metrics arguments must match exactly what gets\n",
        "returned by call()—here, a list of two elements"
      ],
      "metadata": {
        "id": "eAPiNvv0Gwjr"
      }
    },
    {
      "cell_type": "markdown",
      "source": [
        "The structure of the input data must match\n",
        "exactly what is expected by the call() method—\n",
        "here, a dict with keys title, text_body, and tags."
      ],
      "metadata": {
        "id": "Pc8xU8PgHCla"
      }
    },
    {
      "cell_type": "code",
      "source": [
        "model.compile(optimizer=\"rmsprop\",\n",
        " loss=[\"mean_squared_error\", \"categorical_crossentropy\"],\n",
        " metrics=[[\"mean_absolute_error\"], [\"accuracy\"]])"
      ],
      "metadata": {
        "id": "FD7WpYkBGgzj"
      },
      "execution_count": null,
      "outputs": []
    },
    {
      "cell_type": "markdown",
      "source": [
        "The structure of the target\n",
        "data must match exactly what is\n",
        "returned by the call() method—\n",
        "here, a list of two elements."
      ],
      "metadata": {
        "id": "8PIbItpoG6uc"
      }
    },
    {
      "cell_type": "code",
      "source": [
        "model.fit({\"title\": title_data,\n",
        " \"text_body\": text_body_data,\n",
        " \"tags\": tags_data},\n",
        " [priority_data, department_data],\n",
        " epochs=1)"
      ],
      "metadata": {
        "colab": {
          "base_uri": "https://localhost:8080/"
        },
        "id": "fIDebkGiG5z7",
        "outputId": "7def2626-85ce-4e3f-bfc1-c4c7853c9303"
      },
      "execution_count": null,
      "outputs": [
        {
          "output_type": "stream",
          "name": "stdout",
          "text": [
            "40/40 [==============================] - 1s 15ms/step - loss: 30.2018 - output_1_loss: 0.3265 - output_2_loss: 29.8753 - output_1_mean_absolute_error: 0.4953 - output_2_accuracy: 0.3516\n"
          ]
        },
        {
          "output_type": "execute_result",
          "data": {
            "text/plain": [
              "<keras.src.callbacks.History at 0x7836cd7e7ee0>"
            ]
          },
          "metadata": {},
          "execution_count": 9
        }
      ]
    }
  ]
}